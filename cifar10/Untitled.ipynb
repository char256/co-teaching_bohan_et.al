{
 "cells": [
  {
   "cell_type": "code",
   "execution_count": 34,
   "metadata": {},
   "outputs": [],
   "source": [
    "from torchvision import datasets,  transforms\n",
    "import torch\n",
    "import numpy as np"
   ]
  },
  {
   "cell_type": "code",
   "execution_count": 38,
   "metadata": {},
   "outputs": [
    {
     "name": "stdout",
     "output_type": "stream",
     "text": [
      "Files already downloaded and verified\n"
     ]
    }
   ],
   "source": [
    "train_loader = torch.utils.data.DataLoader(\n",
    "        datasets.CIFAR10('../data/CIFAR10', train=True, download=True,\n",
    "                       transform=transforms.Compose([\n",
    "                           transforms.ToTensor(),\n",
    "                           transforms.Normalize((0.1307,), (0.3081,))\n",
    "                       ])),\n",
    "        batch_size=64, shuffle=True)"
   ]
  },
  {
   "cell_type": "code",
   "execution_count": 39,
   "metadata": {},
   "outputs": [
    {
     "name": "stdout",
     "output_type": "stream",
     "text": [
      "[tensor([[[[ 2.5797,  2.5669,  2.6815,  ...,  2.7706,  2.7960,  2.8215],\n",
      "          [ 2.5287,  2.5160,  2.5160,  ...,  2.7578,  2.7451,  2.7578],\n",
      "          [ 2.5160,  2.5542,  2.1723,  ...,  2.7960,  2.7706,  2.7706],\n",
      "          ...,\n",
      "          [ 1.2814,  1.3450,  1.3068,  ...,  1.7269,  1.6505,  1.6759],\n",
      "          [ 1.3323,  1.4341,  1.4723,  ...,  1.5868,  1.7523,  1.8923],\n",
      "          [ 1.6759,  1.5868,  1.6123,  ...,  1.9305,  1.5868,  1.9178]],\n",
      "\n",
      "         [[ 0.9176,  0.9137,  0.9373,  ...,  0.9765,  0.9843,  0.9922],\n",
      "          [ 0.8980,  0.8980,  0.8784,  ...,  0.9725,  0.9686,  0.9725],\n",
      "          [ 0.8863,  0.8980,  0.7686,  ...,  0.9843,  0.9765,  0.9765],\n",
      "          ...,\n",
      "          [ 0.5176,  0.5373,  0.5098,  ...,  0.6510,  0.6275,  0.6235],\n",
      "          [ 0.5176,  0.5373,  0.5412,  ...,  0.6196,  0.6627,  0.6902],\n",
      "          [ 0.6000,  0.5608,  0.5725,  ...,  0.7255,  0.6118,  0.6980]],\n",
      "\n",
      "         [[ 0.9608,  0.9686,  0.9843,  ...,  0.9804,  0.9882,  0.9961],\n",
      "          [ 0.9451,  0.9490,  0.9216,  ...,  0.9843,  0.9765,  0.9804],\n",
      "          [ 0.9412,  0.9490,  0.8039,  ...,  1.0000,  0.9922,  0.9922],\n",
      "          ...,\n",
      "          [ 0.3882,  0.3882,  0.3647,  ...,  0.5647,  0.5216,  0.5216],\n",
      "          [ 0.3882,  0.3961,  0.3922,  ...,  0.5412,  0.5569,  0.5686],\n",
      "          [ 0.4784,  0.4235,  0.4275,  ...,  0.6588,  0.5059,  0.5608]]],\n",
      "\n",
      "\n",
      "        [[[ 1.9432,  2.4269,  2.0578,  ...,  2.0832,  2.0578,  1.7905],\n",
      "          [ 1.9051,  1.8669,  2.3251,  ...,  1.8287,  1.6505,  2.0196],\n",
      "          [ 1.8287,  1.3959,  2.0705,  ...,  1.4596,  1.1159,  1.7396],\n",
      "          ...,\n",
      "          [ 0.6704,  0.4922,  0.3522,  ...,  1.9942,  2.0196,  2.0705],\n",
      "          [ 0.6831,  0.5304,  0.5049,  ...,  2.0451,  2.0578,  2.1342],\n",
      "          [ 1.5105,  1.4341,  1.4978,  ...,  2.2487,  2.1723,  2.1978]],\n",
      "\n",
      "         [[ 0.6863,  0.8588,  0.7765,  ...,  0.7922,  0.7804,  0.7098],\n",
      "          [ 0.6824,  0.6863,  0.8510,  ...,  0.7137,  0.6549,  0.7765],\n",
      "          [ 0.6588,  0.5333,  0.7647,  ...,  0.6000,  0.4902,  0.6902],\n",
      "          ...,\n",
      "          [ 0.3098,  0.2588,  0.2157,  ...,  0.7451,  0.7529,  0.7686],\n",
      "          [ 0.3255,  0.2745,  0.2706,  ...,  0.7569,  0.7647,  0.7882],\n",
      "          [ 0.5882,  0.5647,  0.5804,  ...,  0.8157,  0.8000,  0.8118]],\n",
      "\n",
      "         [[ 0.6784,  0.8667,  0.8078,  ...,  0.8510,  0.8431,  0.7725],\n",
      "          [ 0.6745,  0.6863,  0.8784,  ...,  0.7686,  0.7176,  0.8392],\n",
      "          [ 0.6549,  0.5333,  0.7843,  ...,  0.6588,  0.5529,  0.7569],\n",
      "          ...,\n",
      "          [ 0.3804,  0.3255,  0.2784,  ...,  0.7765,  0.7843,  0.8000],\n",
      "          [ 0.3804,  0.3333,  0.3255,  ...,  0.7882,  0.7961,  0.8196],\n",
      "          [ 0.6392,  0.6196,  0.6314,  ...,  0.8549,  0.8392,  0.8471]]],\n",
      "\n",
      "\n",
      "        [[[ 2.2360,  2.3378,  2.4269,  ...,  2.7833,  2.7833,  2.7833],\n",
      "          [ 2.2996,  2.3760,  2.4778,  ...,  2.8215,  2.8215,  2.8215],\n",
      "          [ 2.3251,  2.3887,  2.4651,  ...,  2.8215,  2.8215,  2.8215],\n",
      "          ...,\n",
      "          [ 1.3323,  1.4723,  1.6378,  ...,  1.8414,  1.6632,  2.2360],\n",
      "          [ 1.1923,  1.3577,  1.5487,  ...,  1.5105,  1.9051,  2.2996],\n",
      "          [ 0.9759,  1.2177,  1.4341,  ...,  1.6632,  2.1723,  2.2487]],\n",
      "\n",
      "         [[ 0.7843,  0.8157,  0.8431,  ...,  0.9765,  0.9725,  0.9686],\n",
      "          [ 0.8039,  0.8275,  0.8588,  ...,  0.9882,  0.9882,  0.9804],\n",
      "          [ 0.8157,  0.8353,  0.8588,  ...,  0.9843,  0.9843,  0.9765],\n",
      "          ...,\n",
      "          [ 0.3608,  0.3843,  0.4196,  ...,  0.4902,  0.4431,  0.6196],\n",
      "          [ 0.3333,  0.3608,  0.4039,  ...,  0.4039,  0.4980,  0.6314],\n",
      "          [ 0.2902,  0.3294,  0.3765,  ...,  0.4196,  0.5490,  0.6078]],\n",
      "\n",
      "         [[ 0.7490,  0.7843,  0.8157,  ...,  0.9529,  0.9490,  0.9373],\n",
      "          [ 0.7647,  0.8000,  0.8314,  ...,  0.9647,  0.9608,  0.9490],\n",
      "          [ 0.7843,  0.8078,  0.8353,  ...,  0.9529,  0.9529,  0.9451],\n",
      "          ...,\n",
      "          [ 0.2157,  0.2275,  0.2431,  ...,  0.3255,  0.2941,  0.4314],\n",
      "          [ 0.2039,  0.2196,  0.2392,  ...,  0.2627,  0.3176,  0.4275],\n",
      "          [ 0.1804,  0.2000,  0.2196,  ...,  0.2510,  0.3216,  0.3882]]],\n",
      "\n",
      "\n",
      "        ...,\n",
      "\n",
      "\n",
      "        [[[ 1.4087,  1.3705,  1.4723,  ...,  1.8669,  1.7778,  1.7396],\n",
      "          [ 1.5741,  1.3832,  1.3959,  ...,  1.6887,  1.6632,  1.6505],\n",
      "          [ 1.6632,  1.6632,  1.7269,  ...,  1.6378,  1.7141,  1.7014],\n",
      "          ...,\n",
      "          [ 2.0069,  1.9942,  2.0069,  ...,  1.9942,  2.0323,  1.9942],\n",
      "          [ 1.9051,  1.8160,  1.9687,  ...,  1.9178,  2.0832,  2.0451],\n",
      "          [ 2.0196,  1.9051,  1.9560,  ...,  1.9305,  2.0196,  1.9560]],\n",
      "\n",
      "         [[ 0.3412,  0.3255,  0.3255,  ...,  0.3569,  0.3608,  0.3490],\n",
      "          [ 0.3686,  0.3255,  0.3176,  ...,  0.3569,  0.3569,  0.3412],\n",
      "          [ 0.3686,  0.4039,  0.4235,  ...,  0.3647,  0.3843,  0.3686],\n",
      "          ...,\n",
      "          [ 0.4667,  0.4471,  0.4588,  ...,  0.5294,  0.4863,  0.4824],\n",
      "          [ 0.4314,  0.4039,  0.4549,  ...,  0.5176,  0.5137,  0.5098],\n",
      "          [ 0.4510,  0.4314,  0.4392,  ...,  0.4980,  0.4902,  0.5098]],\n",
      "\n",
      "         [[ 0.1686,  0.1608,  0.1843,  ...,  0.1725,  0.2039,  0.1922],\n",
      "          [ 0.1882,  0.1765,  0.2000,  ...,  0.1804,  0.2000,  0.1882],\n",
      "          [ 0.2118,  0.2196,  0.2235,  ...,  0.1882,  0.2118,  0.2000],\n",
      "          ...,\n",
      "          [ 0.2314,  0.2314,  0.2275,  ...,  0.3686,  0.2824,  0.2784],\n",
      "          [ 0.2039,  0.2196,  0.2235,  ...,  0.3961,  0.3490,  0.3490],\n",
      "          [ 0.2000,  0.2078,  0.2078,  ...,  0.3686,  0.3451,  0.3961]]],\n",
      "\n",
      "\n",
      "        [[[ 1.4341,  1.5105,  1.5359,  ...,  1.7905,  1.8160,  1.7905],\n",
      "          [ 1.4341,  1.4978,  1.5359,  ...,  1.7650,  1.8032,  1.7650],\n",
      "          [ 1.4468,  1.5105,  1.5359,  ...,  1.7523,  1.7905,  1.7269],\n",
      "          ...,\n",
      "          [ 1.1414,  1.1923,  1.1923,  ...,  1.2559,  1.2814,  1.2559],\n",
      "          [ 1.1159,  1.1541,  1.1159,  ...,  1.2432,  1.2559,  1.2305],\n",
      "          [ 1.1159,  1.1541,  1.1414,  ...,  1.2305,  1.2305,  1.1795]],\n",
      "\n",
      "         [[ 0.6510,  0.6706,  0.6745,  ...,  0.7686,  0.7804,  0.7686],\n",
      "          [ 0.6510,  0.6667,  0.6706,  ...,  0.7608,  0.7725,  0.7569],\n",
      "          [ 0.6549,  0.6706,  0.6706,  ...,  0.7490,  0.7608,  0.7412],\n",
      "          ...,\n",
      "          [ 0.5647,  0.5804,  0.5765,  ...,  0.6039,  0.6118,  0.6000],\n",
      "          [ 0.5569,  0.5647,  0.5529,  ...,  0.6000,  0.6039,  0.5961],\n",
      "          [ 0.5569,  0.5647,  0.5608,  ...,  0.5922,  0.5961,  0.5804]],\n",
      "\n",
      "         [[ 0.7569,  0.7804,  0.7843,  ...,  0.8588,  0.8706,  0.8588],\n",
      "          [ 0.7529,  0.7725,  0.7804,  ...,  0.8549,  0.8627,  0.8510],\n",
      "          [ 0.7569,  0.7765,  0.7765,  ...,  0.8431,  0.8588,  0.8431],\n",
      "          ...,\n",
      "          [ 0.6706,  0.6863,  0.6784,  ...,  0.6980,  0.7059,  0.6941],\n",
      "          [ 0.6627,  0.6706,  0.6549,  ...,  0.6941,  0.6980,  0.6902],\n",
      "          [ 0.6627,  0.6706,  0.6667,  ...,  0.6863,  0.6902,  0.6745]]],\n",
      "\n",
      "\n",
      "        [[[ 1.2814,  1.3196,  1.3450,  ...,  1.5105,  1.4214,  1.2177],\n",
      "          [ 1.5868,  1.4087,  1.5232,  ...,  1.4596,  1.3705,  1.0650],\n",
      "          [ 1.7396,  1.4723,  1.6632,  ...,  1.5868,  1.5232,  1.3577],\n",
      "          ...,\n",
      "          [ 0.5049,  1.0141,  0.0849,  ...,  0.1867,  1.0013,  0.4540],\n",
      "          [ 0.3013,  0.7468,  0.1231,  ...,  0.1995,  1.1032,  0.3777],\n",
      "          [ 0.3268,  0.5304, -0.3224,  ...,  0.4668,  1.1286,  0.4540]],\n",
      "\n",
      "         [[ 0.5098,  0.5569,  0.5490,  ...,  0.5961,  0.5647,  0.4902],\n",
      "          [ 0.6039,  0.5882,  0.6039,  ...,  0.5843,  0.5569,  0.4588],\n",
      "          [ 0.6588,  0.6157,  0.6549,  ...,  0.6196,  0.6000,  0.5490],\n",
      "          ...,\n",
      "          [ 0.2980,  0.4706,  0.1529,  ...,  0.1961,  0.4902,  0.2941],\n",
      "          [ 0.2118,  0.3608,  0.1569,  ...,  0.2196,  0.5059,  0.2706],\n",
      "          [ 0.2157,  0.2667,  0.0392,  ...,  0.3137,  0.4784,  0.2824]],\n",
      "\n",
      "         [[ 0.4588,  0.4235,  0.4863,  ...,  0.6157,  0.5765,  0.4941],\n",
      "          [ 0.5529,  0.4706,  0.5961,  ...,  0.6196,  0.5725,  0.4588],\n",
      "          [ 0.5725,  0.5137,  0.6745,  ...,  0.6627,  0.6275,  0.5647],\n",
      "          ...,\n",
      "          [ 0.1961,  0.3804,  0.1647,  ...,  0.0902,  0.1725,  0.1176],\n",
      "          [ 0.1255,  0.2549,  0.1255,  ...,  0.0627,  0.2078,  0.1098],\n",
      "          [ 0.1412,  0.1569,  0.0157,  ...,  0.0902,  0.2235,  0.1255]]]]), tensor([4, 9, 3, 2, 4, 7, 0, 7, 9, 8, 6, 4, 4, 8, 9, 5, 8, 7, 7, 2, 5, 7, 0, 7,\n",
      "        4, 0, 6, 2, 3, 9, 9, 9, 1, 1, 1, 4, 7, 8, 8, 6, 6, 4, 3, 1, 7, 5, 4, 1,\n",
      "        1, 6, 8, 7, 8, 1, 8, 2, 5, 2, 5, 0, 4, 6, 8, 2])]\n"
     ]
    },
    {
     "ename": "KeyboardInterrupt",
     "evalue": "",
     "output_type": "error",
     "traceback": [
      "\u001b[0;31m---------------------------------------------------------------------------\u001b[0m",
      "\u001b[0;31mKeyboardInterrupt\u001b[0m                         Traceback (most recent call last)",
      "\u001b[0;32m~/anaconda3/lib/python3.6/site-packages/ipykernel/kernelbase.py\u001b[0m in \u001b[0;36m_input_request\u001b[0;34m(self, prompt, ident, parent, password)\u001b[0m\n\u001b[1;32m    728\u001b[0m             \u001b[0;32mtry\u001b[0m\u001b[0;34m:\u001b[0m\u001b[0;34m\u001b[0m\u001b[0m\n\u001b[0;32m--> 729\u001b[0;31m                 \u001b[0mident\u001b[0m\u001b[0;34m,\u001b[0m \u001b[0mreply\u001b[0m \u001b[0;34m=\u001b[0m \u001b[0mself\u001b[0m\u001b[0;34m.\u001b[0m\u001b[0msession\u001b[0m\u001b[0;34m.\u001b[0m\u001b[0mrecv\u001b[0m\u001b[0;34m(\u001b[0m\u001b[0mself\u001b[0m\u001b[0;34m.\u001b[0m\u001b[0mstdin_socket\u001b[0m\u001b[0;34m,\u001b[0m \u001b[0;36m0\u001b[0m\u001b[0;34m)\u001b[0m\u001b[0;34m\u001b[0m\u001b[0m\n\u001b[0m\u001b[1;32m    730\u001b[0m             \u001b[0;32mexcept\u001b[0m \u001b[0mException\u001b[0m\u001b[0;34m:\u001b[0m\u001b[0;34m\u001b[0m\u001b[0m\n",
      "\u001b[0;32m~/anaconda3/lib/python3.6/site-packages/jupyter_client/session.py\u001b[0m in \u001b[0;36mrecv\u001b[0;34m(self, socket, mode, content, copy)\u001b[0m\n\u001b[1;32m    802\u001b[0m         \u001b[0;32mtry\u001b[0m\u001b[0;34m:\u001b[0m\u001b[0;34m\u001b[0m\u001b[0m\n\u001b[0;32m--> 803\u001b[0;31m             \u001b[0mmsg_list\u001b[0m \u001b[0;34m=\u001b[0m \u001b[0msocket\u001b[0m\u001b[0;34m.\u001b[0m\u001b[0mrecv_multipart\u001b[0m\u001b[0;34m(\u001b[0m\u001b[0mmode\u001b[0m\u001b[0;34m,\u001b[0m \u001b[0mcopy\u001b[0m\u001b[0;34m=\u001b[0m\u001b[0mcopy\u001b[0m\u001b[0;34m)\u001b[0m\u001b[0;34m\u001b[0m\u001b[0m\n\u001b[0m\u001b[1;32m    804\u001b[0m         \u001b[0;32mexcept\u001b[0m \u001b[0mzmq\u001b[0m\u001b[0;34m.\u001b[0m\u001b[0mZMQError\u001b[0m \u001b[0;32mas\u001b[0m \u001b[0me\u001b[0m\u001b[0;34m:\u001b[0m\u001b[0;34m\u001b[0m\u001b[0m\n",
      "\u001b[0;32m~/anaconda3/lib/python3.6/site-packages/zmq/sugar/socket.py\u001b[0m in \u001b[0;36mrecv_multipart\u001b[0;34m(self, flags, copy, track)\u001b[0m\n\u001b[1;32m    465\u001b[0m         \"\"\"\n\u001b[0;32m--> 466\u001b[0;31m         \u001b[0mparts\u001b[0m \u001b[0;34m=\u001b[0m \u001b[0;34m[\u001b[0m\u001b[0mself\u001b[0m\u001b[0;34m.\u001b[0m\u001b[0mrecv\u001b[0m\u001b[0;34m(\u001b[0m\u001b[0mflags\u001b[0m\u001b[0;34m,\u001b[0m \u001b[0mcopy\u001b[0m\u001b[0;34m=\u001b[0m\u001b[0mcopy\u001b[0m\u001b[0;34m,\u001b[0m \u001b[0mtrack\u001b[0m\u001b[0;34m=\u001b[0m\u001b[0mtrack\u001b[0m\u001b[0;34m)\u001b[0m\u001b[0;34m]\u001b[0m\u001b[0;34m\u001b[0m\u001b[0m\n\u001b[0m\u001b[1;32m    467\u001b[0m         \u001b[0;31m# have first part already, only loop while more to receive\u001b[0m\u001b[0;34m\u001b[0m\u001b[0;34m\u001b[0m\u001b[0m\n",
      "\u001b[0;32mzmq/backend/cython/socket.pyx\u001b[0m in \u001b[0;36mzmq.backend.cython.socket.Socket.recv\u001b[0;34m()\u001b[0m\n",
      "\u001b[0;32mzmq/backend/cython/socket.pyx\u001b[0m in \u001b[0;36mzmq.backend.cython.socket.Socket.recv\u001b[0;34m()\u001b[0m\n",
      "\u001b[0;32mzmq/backend/cython/socket.pyx\u001b[0m in \u001b[0;36mzmq.backend.cython.socket._recv_copy\u001b[0;34m()\u001b[0m\n",
      "\u001b[0;32m~/anaconda3/lib/python3.6/site-packages/zmq/backend/cython/checkrc.pxd\u001b[0m in \u001b[0;36mzmq.backend.cython.checkrc._check_rc\u001b[0;34m()\u001b[0m\n",
      "\u001b[0;31mKeyboardInterrupt\u001b[0m: ",
      "\nDuring handling of the above exception, another exception occurred:\n",
      "\u001b[0;31mKeyboardInterrupt\u001b[0m                         Traceback (most recent call last)",
      "\u001b[0;32m<ipython-input-39-4b7137639ea8>\u001b[0m in \u001b[0;36m<module>\u001b[0;34m()\u001b[0m\n\u001b[1;32m      1\u001b[0m \u001b[0;32mfor\u001b[0m \u001b[0mi\u001b[0m \u001b[0;32min\u001b[0m \u001b[0mtrain_loader\u001b[0m\u001b[0;34m:\u001b[0m\u001b[0;34m\u001b[0m\u001b[0m\n\u001b[1;32m      2\u001b[0m     \u001b[0mprint\u001b[0m\u001b[0;34m(\u001b[0m\u001b[0mi\u001b[0m\u001b[0;34m)\u001b[0m\u001b[0;34m\u001b[0m\u001b[0m\n\u001b[0;32m----> 3\u001b[0;31m     \u001b[0minput\u001b[0m\u001b[0;34m(\u001b[0m\u001b[0;34m)\u001b[0m\u001b[0;34m\u001b[0m\u001b[0m\n\u001b[0m",
      "\u001b[0;32m~/anaconda3/lib/python3.6/site-packages/ipykernel/kernelbase.py\u001b[0m in \u001b[0;36mraw_input\u001b[0;34m(self, prompt)\u001b[0m\n\u001b[1;32m    702\u001b[0m             \u001b[0mself\u001b[0m\u001b[0;34m.\u001b[0m\u001b[0m_parent_ident\u001b[0m\u001b[0;34m,\u001b[0m\u001b[0;34m\u001b[0m\u001b[0m\n\u001b[1;32m    703\u001b[0m             \u001b[0mself\u001b[0m\u001b[0;34m.\u001b[0m\u001b[0m_parent_header\u001b[0m\u001b[0;34m,\u001b[0m\u001b[0;34m\u001b[0m\u001b[0m\n\u001b[0;32m--> 704\u001b[0;31m             \u001b[0mpassword\u001b[0m\u001b[0;34m=\u001b[0m\u001b[0;32mFalse\u001b[0m\u001b[0;34m,\u001b[0m\u001b[0;34m\u001b[0m\u001b[0m\n\u001b[0m\u001b[1;32m    705\u001b[0m         )\n\u001b[1;32m    706\u001b[0m \u001b[0;34m\u001b[0m\u001b[0m\n",
      "\u001b[0;32m~/anaconda3/lib/python3.6/site-packages/ipykernel/kernelbase.py\u001b[0m in \u001b[0;36m_input_request\u001b[0;34m(self, prompt, ident, parent, password)\u001b[0m\n\u001b[1;32m    732\u001b[0m             \u001b[0;32mexcept\u001b[0m \u001b[0mKeyboardInterrupt\u001b[0m\u001b[0;34m:\u001b[0m\u001b[0;34m\u001b[0m\u001b[0m\n\u001b[1;32m    733\u001b[0m                 \u001b[0;31m# re-raise KeyboardInterrupt, to truncate traceback\u001b[0m\u001b[0;34m\u001b[0m\u001b[0;34m\u001b[0m\u001b[0m\n\u001b[0;32m--> 734\u001b[0;31m                 \u001b[0;32mraise\u001b[0m \u001b[0mKeyboardInterrupt\u001b[0m\u001b[0;34m\u001b[0m\u001b[0m\n\u001b[0m\u001b[1;32m    735\u001b[0m             \u001b[0;32melse\u001b[0m\u001b[0;34m:\u001b[0m\u001b[0;34m\u001b[0m\u001b[0m\n\u001b[1;32m    736\u001b[0m                 \u001b[0;32mbreak\u001b[0m\u001b[0;34m\u001b[0m\u001b[0m\n",
      "\u001b[0;31mKeyboardInterrupt\u001b[0m: "
     ]
    }
   ],
   "source": [
    "for i in train_loader:\n",
    "    print(i)\n",
    "    input()"
   ]
  },
  {
   "cell_type": "code",
   "execution_count": 16,
   "metadata": {},
   "outputs": [],
   "source": [
    "import matplotlib.pyplot as plt"
   ]
  },
  {
   "cell_type": "code",
   "execution_count": 45,
   "metadata": {},
   "outputs": [
    {
     "data": {
      "text/plain": [
       "<matplotlib.image.AxesImage at 0x7f00f61e4518>"
      ]
     },
     "execution_count": 45,
     "metadata": {},
     "output_type": "execute_result"
    },
    {
     "data": {
      "image/png": "[encoded data removed]",
      "text/plain": [
       "<Figure size 432x288 with 1 Axes>"
      ]
     },
     "metadata": {},
     "output_type": "display_data"
    }
   ],
   "source": [
    "plt.imshow(np.transpose(i[0][5],(1,2,0))*0.3081+0.1307)\n"
   ]
  },
  {
   "cell_type": "code",
   "execution_count": 25,
   "metadata": {},
   "outputs": [],
   "source": [
    "train_loader1 = torch.utils.data.DataLoader(\n",
    "        datasets.MNIST('../data', train=True, download=True,\n",
    "                       transform=transforms.Compose([\n",
    "                           transforms.ToTensor(),\n",
    "                           transforms.Normalize((0.1307,), (0.3081,))\n",
    "                       ])),\n",
    "        batch_size=64, shuffle=True)"
   ]
  },
  {
   "cell_type": "code",
   "execution_count": 26,
   "metadata": {},
   "outputs": [],
   "source": [
    "for b in train_loader1:\n",
    "    break"
   ]
  },
  {
   "cell_type": "code",
   "execution_count": 29,
   "metadata": {},
   "outputs": [
    {
     "data": {
      "text/plain": [
       "torch.Size([64, 1, 28, 28])"
      ]
     },
     "execution_count": 29,
     "metadata": {},
     "output_type": "execute_result"
    }
   ],
   "source": [
    "b[0].shape"
   ]
  },
  {
   "cell_type": "code",
   "execution_count": 31,
   "metadata": {},
   "outputs": [
    {
     "data": {
      "text/plain": [
       "torch.Size([3, 32, 32])"
      ]
     },
     "execution_count": 31,
     "metadata": {},
     "output_type": "execute_result"
    }
   ],
   "source": [
    "i[0][0].shape"
   ]
  },
  {
   "cell_type": "code",
   "execution_count": null,
   "metadata": {},
   "outputs": [],
   "source": []
  }
 ],
 "metadata": {
  "kernelspec": {
   "display_name": "Python 3",
   "language": "python",
   "name": "python3"
  },
  "language_info": {
   "codemirror_mode": {
    "name": "ipython",
    "version": 3
   },
   "file_extension": ".py",
   "mimetype": "text/x-python",
   "name": "python",
   "nbconvert_exporter": "python",
   "pygments_lexer": "ipython3",
   "version": "3.6.5"
  }
 },
 "nbformat": 4,
 "nbformat_minor": 2
}
